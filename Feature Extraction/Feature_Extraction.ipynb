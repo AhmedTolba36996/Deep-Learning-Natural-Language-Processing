{
  "cells": [
    {
      "cell_type": "code",
      "execution_count": 1,
      "id": "486fa6ee",
      "metadata": {
        "id": "486fa6ee"
      },
      "outputs": [],
      "source": [
        "import pandas as pd"
      ]
    },
    {
      "cell_type": "code",
      "execution_count": 8,
      "id": "77cd36a5",
      "metadata": {
        "colab": {
          "base_uri": "https://localhost:8080/",
          "height": 266
        },
        "id": "77cd36a5",
        "outputId": "c100dfea-c6f0-447e-9ebe-6aa543d60655"
      },
      "outputs": [
        {
          "output_type": "execute_result",
          "data": {
            "text/plain": [
              "   truncated                                               text  \\\n",
              "0      False  Now 10 dead in a shooting there today RT \"@BBC...   \n",
              "1      False  @BBCDanielS @BBCWorld I'm guessing this is bei...   \n",
              "\n",
              "   in_reply_to_status_id            id  favorite_count  \\\n",
              "0           5.530000e+17  5.527850e+17               0   \n",
              "1           5.530000e+17  5.527870e+17               0   \n",
              "\n",
              "                                              source  retweeted coordinates  \\\n",
              "0  <a href=\"http://twitter.com/download/iphone\" r...      False         NaN   \n",
              "1  <a href=\"http://twitter.com\" rel=\"nofollow\">Tw...      False         NaN   \n",
              "\n",
              "                                            entities in_reply_to_screen_name  \\\n",
              "0  {'symbols': [], 'user_mentions': [{'id': 33165...              BBCDanielS   \n",
              "1  {'symbols': [], 'user_mentions': [{'id': 33165...              BBCDanielS   \n",
              "\n",
              "   ...  retweet_count  in_reply_to_user_id  favorited  \\\n",
              "0  ...              0          331658004.0      False   \n",
              "1  ...              0          331658004.0      False   \n",
              "\n",
              "                                                user  geo  \\\n",
              "0  {'follow_request_sent': False, 'profile_use_ba...  NaN   \n",
              "1  {'follow_request_sent': False, 'profile_use_ba...  NaN   \n",
              "\n",
              "  in_reply_to_user_id_str  lang                      created_at  \\\n",
              "0             331658004.0    en  Wed Jan 07 11:14:08 +0000 2015   \n",
              "1             331658004.0    en  Wed Jan 07 11:20:08 +0000 2015   \n",
              "\n",
              "  in_reply_to_status_id_str  Label  \n",
              "0              5.530000e+17      0  \n",
              "1              5.530000e+17      0  \n",
              "\n",
              "[2 rows x 21 columns]"
            ],
            "text/html": [
              "\n",
              "  <div id=\"df-1c8e0d92-33be-4836-8b1b-474c7fc7563d\" class=\"colab-df-container\">\n",
              "    <div>\n",
              "<style scoped>\n",
              "    .dataframe tbody tr th:only-of-type {\n",
              "        vertical-align: middle;\n",
              "    }\n",
              "\n",
              "    .dataframe tbody tr th {\n",
              "        vertical-align: top;\n",
              "    }\n",
              "\n",
              "    .dataframe thead th {\n",
              "        text-align: right;\n",
              "    }\n",
              "</style>\n",
              "<table border=\"1\" class=\"dataframe\">\n",
              "  <thead>\n",
              "    <tr style=\"text-align: right;\">\n",
              "      <th></th>\n",
              "      <th>truncated</th>\n",
              "      <th>text</th>\n",
              "      <th>in_reply_to_status_id</th>\n",
              "      <th>id</th>\n",
              "      <th>favorite_count</th>\n",
              "      <th>source</th>\n",
              "      <th>retweeted</th>\n",
              "      <th>coordinates</th>\n",
              "      <th>entities</th>\n",
              "      <th>in_reply_to_screen_name</th>\n",
              "      <th>...</th>\n",
              "      <th>retweet_count</th>\n",
              "      <th>in_reply_to_user_id</th>\n",
              "      <th>favorited</th>\n",
              "      <th>user</th>\n",
              "      <th>geo</th>\n",
              "      <th>in_reply_to_user_id_str</th>\n",
              "      <th>lang</th>\n",
              "      <th>created_at</th>\n",
              "      <th>in_reply_to_status_id_str</th>\n",
              "      <th>Label</th>\n",
              "    </tr>\n",
              "  </thead>\n",
              "  <tbody>\n",
              "    <tr>\n",
              "      <th>0</th>\n",
              "      <td>False</td>\n",
              "      <td>Now 10 dead in a shooting there today RT \"@BBC...</td>\n",
              "      <td>5.530000e+17</td>\n",
              "      <td>5.527850e+17</td>\n",
              "      <td>0</td>\n",
              "      <td>&lt;a href=\"http://twitter.com/download/iphone\" r...</td>\n",
              "      <td>False</td>\n",
              "      <td>NaN</td>\n",
              "      <td>{'symbols': [], 'user_mentions': [{'id': 33165...</td>\n",
              "      <td>BBCDanielS</td>\n",
              "      <td>...</td>\n",
              "      <td>0</td>\n",
              "      <td>331658004.0</td>\n",
              "      <td>False</td>\n",
              "      <td>{'follow_request_sent': False, 'profile_use_ba...</td>\n",
              "      <td>NaN</td>\n",
              "      <td>331658004.0</td>\n",
              "      <td>en</td>\n",
              "      <td>Wed Jan 07 11:14:08 +0000 2015</td>\n",
              "      <td>5.530000e+17</td>\n",
              "      <td>0</td>\n",
              "    </tr>\n",
              "    <tr>\n",
              "      <th>1</th>\n",
              "      <td>False</td>\n",
              "      <td>@BBCDanielS @BBCWorld I'm guessing this is bei...</td>\n",
              "      <td>5.530000e+17</td>\n",
              "      <td>5.527870e+17</td>\n",
              "      <td>0</td>\n",
              "      <td>&lt;a href=\"http://twitter.com\" rel=\"nofollow\"&gt;Tw...</td>\n",
              "      <td>False</td>\n",
              "      <td>NaN</td>\n",
              "      <td>{'symbols': [], 'user_mentions': [{'id': 33165...</td>\n",
              "      <td>BBCDanielS</td>\n",
              "      <td>...</td>\n",
              "      <td>0</td>\n",
              "      <td>331658004.0</td>\n",
              "      <td>False</td>\n",
              "      <td>{'follow_request_sent': False, 'profile_use_ba...</td>\n",
              "      <td>NaN</td>\n",
              "      <td>331658004.0</td>\n",
              "      <td>en</td>\n",
              "      <td>Wed Jan 07 11:20:08 +0000 2015</td>\n",
              "      <td>5.530000e+17</td>\n",
              "      <td>0</td>\n",
              "    </tr>\n",
              "  </tbody>\n",
              "</table>\n",
              "<p>2 rows × 21 columns</p>\n",
              "</div>\n",
              "    <div class=\"colab-df-buttons\">\n",
              "\n",
              "  <div class=\"colab-df-container\">\n",
              "    <button class=\"colab-df-convert\" onclick=\"convertToInteractive('df-1c8e0d92-33be-4836-8b1b-474c7fc7563d')\"\n",
              "            title=\"Convert this dataframe to an interactive table.\"\n",
              "            style=\"display:none;\">\n",
              "\n",
              "  <svg xmlns=\"http://www.w3.org/2000/svg\" height=\"24px\" viewBox=\"0 -960 960 960\">\n",
              "    <path d=\"M120-120v-720h720v720H120Zm60-500h600v-160H180v160Zm220 220h160v-160H400v160Zm0 220h160v-160H400v160ZM180-400h160v-160H180v160Zm440 0h160v-160H620v160ZM180-180h160v-160H180v160Zm440 0h160v-160H620v160Z\"/>\n",
              "  </svg>\n",
              "    </button>\n",
              "\n",
              "  <style>\n",
              "    .colab-df-container {\n",
              "      display:flex;\n",
              "      gap: 12px;\n",
              "    }\n",
              "\n",
              "    .colab-df-convert {\n",
              "      background-color: #E8F0FE;\n",
              "      border: none;\n",
              "      border-radius: 50%;\n",
              "      cursor: pointer;\n",
              "      display: none;\n",
              "      fill: #1967D2;\n",
              "      height: 32px;\n",
              "      padding: 0 0 0 0;\n",
              "      width: 32px;\n",
              "    }\n",
              "\n",
              "    .colab-df-convert:hover {\n",
              "      background-color: #E2EBFA;\n",
              "      box-shadow: 0px 1px 2px rgba(60, 64, 67, 0.3), 0px 1px 3px 1px rgba(60, 64, 67, 0.15);\n",
              "      fill: #174EA6;\n",
              "    }\n",
              "\n",
              "    .colab-df-buttons div {\n",
              "      margin-bottom: 4px;\n",
              "    }\n",
              "\n",
              "    [theme=dark] .colab-df-convert {\n",
              "      background-color: #3B4455;\n",
              "      fill: #D2E3FC;\n",
              "    }\n",
              "\n",
              "    [theme=dark] .colab-df-convert:hover {\n",
              "      background-color: #434B5C;\n",
              "      box-shadow: 0px 1px 3px 1px rgba(0, 0, 0, 0.15);\n",
              "      filter: drop-shadow(0px 1px 2px rgba(0, 0, 0, 0.3));\n",
              "      fill: #FFFFFF;\n",
              "    }\n",
              "  </style>\n",
              "\n",
              "    <script>\n",
              "      const buttonEl =\n",
              "        document.querySelector('#df-1c8e0d92-33be-4836-8b1b-474c7fc7563d button.colab-df-convert');\n",
              "      buttonEl.style.display =\n",
              "        google.colab.kernel.accessAllowed ? 'block' : 'none';\n",
              "\n",
              "      async function convertToInteractive(key) {\n",
              "        const element = document.querySelector('#df-1c8e0d92-33be-4836-8b1b-474c7fc7563d');\n",
              "        const dataTable =\n",
              "          await google.colab.kernel.invokeFunction('convertToInteractive',\n",
              "                                                    [key], {});\n",
              "        if (!dataTable) return;\n",
              "\n",
              "        const docLinkHtml = 'Like what you see? Visit the ' +\n",
              "          '<a target=\"_blank\" href=https://colab.research.google.com/notebooks/data_table.ipynb>data table notebook</a>'\n",
              "          + ' to learn more about interactive tables.';\n",
              "        element.innerHTML = '';\n",
              "        dataTable['output_type'] = 'display_data';\n",
              "        await google.colab.output.renderOutput(dataTable, element);\n",
              "        const docLink = document.createElement('div');\n",
              "        docLink.innerHTML = docLinkHtml;\n",
              "        element.appendChild(docLink);\n",
              "      }\n",
              "    </script>\n",
              "  </div>\n",
              "\n",
              "\n",
              "<div id=\"df-2e2719b2-1fbb-43d6-90b6-09bf5ff4ec74\">\n",
              "  <button class=\"colab-df-quickchart\" onclick=\"quickchart('df-2e2719b2-1fbb-43d6-90b6-09bf5ff4ec74')\"\n",
              "            title=\"Suggest charts\"\n",
              "            style=\"display:none;\">\n",
              "\n",
              "<svg xmlns=\"http://www.w3.org/2000/svg\" height=\"24px\"viewBox=\"0 0 24 24\"\n",
              "     width=\"24px\">\n",
              "    <g>\n",
              "        <path d=\"M19 3H5c-1.1 0-2 .9-2 2v14c0 1.1.9 2 2 2h14c1.1 0 2-.9 2-2V5c0-1.1-.9-2-2-2zM9 17H7v-7h2v7zm4 0h-2V7h2v10zm4 0h-2v-4h2v4z\"/>\n",
              "    </g>\n",
              "</svg>\n",
              "  </button>\n",
              "\n",
              "<style>\n",
              "  .colab-df-quickchart {\n",
              "      --bg-color: #E8F0FE;\n",
              "      --fill-color: #1967D2;\n",
              "      --hover-bg-color: #E2EBFA;\n",
              "      --hover-fill-color: #174EA6;\n",
              "      --disabled-fill-color: #AAA;\n",
              "      --disabled-bg-color: #DDD;\n",
              "  }\n",
              "\n",
              "  [theme=dark] .colab-df-quickchart {\n",
              "      --bg-color: #3B4455;\n",
              "      --fill-color: #D2E3FC;\n",
              "      --hover-bg-color: #434B5C;\n",
              "      --hover-fill-color: #FFFFFF;\n",
              "      --disabled-bg-color: #3B4455;\n",
              "      --disabled-fill-color: #666;\n",
              "  }\n",
              "\n",
              "  .colab-df-quickchart {\n",
              "    background-color: var(--bg-color);\n",
              "    border: none;\n",
              "    border-radius: 50%;\n",
              "    cursor: pointer;\n",
              "    display: none;\n",
              "    fill: var(--fill-color);\n",
              "    height: 32px;\n",
              "    padding: 0;\n",
              "    width: 32px;\n",
              "  }\n",
              "\n",
              "  .colab-df-quickchart:hover {\n",
              "    background-color: var(--hover-bg-color);\n",
              "    box-shadow: 0 1px 2px rgba(60, 64, 67, 0.3), 0 1px 3px 1px rgba(60, 64, 67, 0.15);\n",
              "    fill: var(--button-hover-fill-color);\n",
              "  }\n",
              "\n",
              "  .colab-df-quickchart-complete:disabled,\n",
              "  .colab-df-quickchart-complete:disabled:hover {\n",
              "    background-color: var(--disabled-bg-color);\n",
              "    fill: var(--disabled-fill-color);\n",
              "    box-shadow: none;\n",
              "  }\n",
              "\n",
              "  .colab-df-spinner {\n",
              "    border: 2px solid var(--fill-color);\n",
              "    border-color: transparent;\n",
              "    border-bottom-color: var(--fill-color);\n",
              "    animation:\n",
              "      spin 1s steps(1) infinite;\n",
              "  }\n",
              "\n",
              "  @keyframes spin {\n",
              "    0% {\n",
              "      border-color: transparent;\n",
              "      border-bottom-color: var(--fill-color);\n",
              "      border-left-color: var(--fill-color);\n",
              "    }\n",
              "    20% {\n",
              "      border-color: transparent;\n",
              "      border-left-color: var(--fill-color);\n",
              "      border-top-color: var(--fill-color);\n",
              "    }\n",
              "    30% {\n",
              "      border-color: transparent;\n",
              "      border-left-color: var(--fill-color);\n",
              "      border-top-color: var(--fill-color);\n",
              "      border-right-color: var(--fill-color);\n",
              "    }\n",
              "    40% {\n",
              "      border-color: transparent;\n",
              "      border-right-color: var(--fill-color);\n",
              "      border-top-color: var(--fill-color);\n",
              "    }\n",
              "    60% {\n",
              "      border-color: transparent;\n",
              "      border-right-color: var(--fill-color);\n",
              "    }\n",
              "    80% {\n",
              "      border-color: transparent;\n",
              "      border-right-color: var(--fill-color);\n",
              "      border-bottom-color: var(--fill-color);\n",
              "    }\n",
              "    90% {\n",
              "      border-color: transparent;\n",
              "      border-bottom-color: var(--fill-color);\n",
              "    }\n",
              "  }\n",
              "</style>\n",
              "\n",
              "  <script>\n",
              "    async function quickchart(key) {\n",
              "      const quickchartButtonEl =\n",
              "        document.querySelector('#' + key + ' button');\n",
              "      quickchartButtonEl.disabled = true;  // To prevent multiple clicks.\n",
              "      quickchartButtonEl.classList.add('colab-df-spinner');\n",
              "      try {\n",
              "        const charts = await google.colab.kernel.invokeFunction(\n",
              "            'suggestCharts', [key], {});\n",
              "      } catch (error) {\n",
              "        console.error('Error during call to suggestCharts:', error);\n",
              "      }\n",
              "      quickchartButtonEl.classList.remove('colab-df-spinner');\n",
              "      quickchartButtonEl.classList.add('colab-df-quickchart-complete');\n",
              "    }\n",
              "    (() => {\n",
              "      let quickchartButtonEl =\n",
              "        document.querySelector('#df-2e2719b2-1fbb-43d6-90b6-09bf5ff4ec74 button');\n",
              "      quickchartButtonEl.style.display =\n",
              "        google.colab.kernel.accessAllowed ? 'block' : 'none';\n",
              "    })();\n",
              "  </script>\n",
              "</div>\n",
              "\n",
              "    </div>\n",
              "  </div>\n"
            ],
            "application/vnd.google.colaboratory.intrinsic+json": {
              "type": "dataframe",
              "variable_name": "data"
            }
          },
          "metadata": {},
          "execution_count": 8
        }
      ],
      "source": [
        "data = pd.read_csv('/content/Rumors.csv',encoding='latin-1')\n",
        "data.head(2)"
      ]
    },
    {
      "cell_type": "markdown",
      "source": [
        "# **Split**"
      ],
      "metadata": {
        "id": "_FDfOj3SPBS9"
      },
      "id": "_FDfOj3SPBS9"
    },
    {
      "cell_type": "code",
      "source": [
        "T = r'My name is Ahmed Tolba , I am graduated from factully of computers and informatics Zagazig University @ Ahmed Tolba , How are you Ahmed @ Ali Mohamed '\n",
        "' '.join(T.split('@')[1].split()[0:2])"
      ],
      "metadata": {
        "colab": {
          "base_uri": "https://localhost:8080/",
          "height": 36
        },
        "id": "XZcPSjHWLkPA",
        "outputId": "c02e327f-1799-463d-f565-fbf45bb0763a"
      },
      "id": "XZcPSjHWLkPA",
      "execution_count": 18,
      "outputs": [
        {
          "output_type": "execute_result",
          "data": {
            "text/plain": [
              "'Ahmed Tolba'"
            ],
            "application/vnd.google.colaboratory.intrinsic+json": {
              "type": "string"
            }
          },
          "metadata": {},
          "execution_count": 18
        }
      ]
    },
    {
      "cell_type": "code",
      "execution_count": 19,
      "id": "8ad2afcf",
      "metadata": {
        "colab": {
          "base_uri": "https://localhost:8080/",
          "height": 36
        },
        "id": "8ad2afcf",
        "outputId": "1916014b-e8b3-433e-c21b-6c640d2c1a06"
      },
      "outputs": [
        {
          "output_type": "execute_result",
          "data": {
            "text/plain": [
              "'stefandevries:'"
            ],
            "application/vnd.google.colaboratory.intrinsic+json": {
              "type": "string"
            }
          },
          "metadata": {},
          "execution_count": 19
        }
      ],
      "source": [
        "T = r'Voor live-ontwikkeling ter plekke aanslag Charlie Hebdo, volg â€œ@stefandevries: Just arrived @bcc at scene.. #charliehebdo http://t.co/HfzVNcWCGmâ€'\n",
        "T.split('@')[1].split()[0]"
      ]
    },
    {
      "cell_type": "code",
      "execution_count": 20,
      "id": "f2ed7d4a",
      "metadata": {
        "colab": {
          "base_uri": "https://localhost:8080/",
          "height": 36
        },
        "id": "f2ed7d4a",
        "outputId": "8c64bf53-97a0-410c-8db5-73d7b32fef79"
      },
      "outputs": [
        {
          "output_type": "execute_result",
          "data": {
            "text/plain": [
              "'MaxWindCowie'"
            ],
            "application/vnd.google.colaboratory.intrinsic+json": {
              "type": "string"
            }
          },
          "metadata": {},
          "execution_count": 20
        }
      ],
      "source": [
        "T = r'@MaxWindCowie @CintaArsenal please do not blame Islamists just yet. It could well be the act of extreme-right fanatics you know...'\n",
        "T.split('@')[1].split()[0]"
      ]
    },
    {
      "cell_type": "code",
      "execution_count": 21,
      "id": "d12ebfd9",
      "metadata": {
        "colab": {
          "base_uri": "https://localhost:8080/",
          "height": 36
        },
        "id": "d12ebfd9",
        "outputId": "39c001c1-3953-4137-d397-cb3d78006f28"
      },
      "outputs": [
        {
          "output_type": "execute_result",
          "data": {
            "text/plain": [
              "'MaxWindCowie'"
            ],
            "application/vnd.google.colaboratory.intrinsic+json": {
              "type": "string"
            }
          },
          "metadata": {},
          "execution_count": 21
        }
      ],
      "source": [
        "T = r'@MaxWindCowie and definitely not strong enough to make you believe in it.'\n",
        "T.split('@')[1].split()[0]"
      ]
    },
    {
      "cell_type": "code",
      "execution_count": 23,
      "id": "dce952da",
      "metadata": {
        "colab": {
          "base_uri": "https://localhost:8080/",
          "height": 36
        },
        "id": "dce952da",
        "outputId": "b3a68740-889c-4995-c4cb-7abe2a0edd94"
      },
      "outputs": [
        {
          "output_type": "execute_result",
          "data": {
            "text/plain": [
              "'Voor live-ontwikkeling ter plekke aanslag Charlie Hebdo, volg â€œ'"
            ],
            "application/vnd.google.colaboratory.intrinsic+json": {
              "type": "string"
            }
          },
          "metadata": {},
          "execution_count": 23
        }
      ],
      "source": [
        "T = r'Voor live-ontwikkeling ter plekke aanslag Charlie Hebdo, volg â€œ@stefandevries: Just arrived @bcc at scene.. #charliehebdo http://t.co/HfzVNcWCGmâ€'\n",
        "T.split('@')[0]"
      ]
    },
    {
      "cell_type": "code",
      "execution_count": 24,
      "id": "b5473a73",
      "metadata": {
        "colab": {
          "base_uri": "https://localhost:8080/"
        },
        "id": "b5473a73",
        "outputId": "e7eba616-c9b0-4642-9bfd-c328f08255dc"
      },
      "outputs": [
        {
          "output_type": "execute_result",
          "data": {
            "text/plain": [
              "['kj; kjaa; skdjv']"
            ]
          },
          "metadata": {},
          "execution_count": 24
        }
      ],
      "source": [
        "T = 'kj; kjaa; skdjv'\n",
        "\n",
        "T.split('m')"
      ]
    },
    {
      "cell_type": "code",
      "execution_count": 29,
      "id": "8467a441",
      "metadata": {
        "id": "8467a441"
      },
      "outputs": [],
      "source": [
        "def split_check(T , symboles):\n",
        "  value = ''\n",
        "  if symboles in T :\n",
        "    value = T.split(symboles)[1].split()[0]\n",
        "  else :\n",
        "    value = 'Not Found'\n",
        "  return value\n"
      ]
    },
    {
      "cell_type": "code",
      "source": [
        "T = r'please do not blame Islamists just yet. It could well be the act of extreme-right fanatics you know...'\n",
        "split_check(T , '@')"
      ],
      "metadata": {
        "colab": {
          "base_uri": "https://localhost:8080/",
          "height": 36
        },
        "id": "HP0_M66gOh4x",
        "outputId": "5fa9a3cd-3a92-4627-f668-55b0b5fa5f72"
      },
      "id": "HP0_M66gOh4x",
      "execution_count": 32,
      "outputs": [
        {
          "output_type": "execute_result",
          "data": {
            "text/plain": [
              "'Not Found'"
            ],
            "application/vnd.google.colaboratory.intrinsic+json": {
              "type": "string"
            }
          },
          "metadata": {},
          "execution_count": 32
        }
      ]
    },
    {
      "cell_type": "code",
      "execution_count": 33,
      "id": "9c2d830f",
      "metadata": {
        "colab": {
          "base_uri": "https://localhost:8080/",
          "height": 36
        },
        "id": "9c2d830f",
        "outputId": "57925e30-1e27-4ac9-ff43-59651ce8b516"
      },
      "outputs": [
        {
          "output_type": "execute_result",
          "data": {
            "text/plain": [
              "'Ahmed_Tolba'"
            ],
            "application/vnd.google.colaboratory.intrinsic+json": {
              "type": "string"
            }
          },
          "metadata": {},
          "execution_count": 33
        }
      ],
      "source": [
        "T = r'@Ahmed_Tolba @BBCDanielS @BBCWorld Several men in black cagoules were heard to shout the Prophet has been avenged'\n",
        "split_check(T , '@')"
      ]
    },
    {
      "cell_type": "markdown",
      "source": [
        "# **Feature Exareaction Using Lambda**"
      ],
      "metadata": {
        "id": "CyEN0ucCPMVp"
      },
      "id": "CyEN0ucCPMVp"
    },
    {
      "cell_type": "code",
      "source": [
        "#check links\n",
        "data['LinkExistence'] = data['text'].apply(lambda x: r'http://t.co/' in x )\n"
      ],
      "metadata": {
        "id": "yIPg9d2uPfCm"
      },
      "id": "yIPg9d2uPfCm",
      "execution_count": 51,
      "outputs": []
    },
    {
      "cell_type": "code",
      "source": [
        "data = data[['text','LinkExistence']]"
      ],
      "metadata": {
        "id": "x6tYgRtxREFs"
      },
      "id": "x6tYgRtxREFs",
      "execution_count": 61,
      "outputs": []
    },
    {
      "cell_type": "code",
      "source": [
        "def first_link(text):\n",
        "  link = ''\n",
        "  if r'http://t.co/' in text :\n",
        "    link = [i for i in text.split() if 'http://t.co/' in i][0]\n",
        "  else :\n",
        "    link = 'No Link'\n",
        "  return link"
      ],
      "metadata": {
        "id": "vzXJUpMdTSum"
      },
      "id": "vzXJUpMdTSum",
      "execution_count": null,
      "outputs": []
    },
    {
      "cell_type": "code",
      "execution_count": null,
      "id": "01a7dad7",
      "metadata": {
        "id": "01a7dad7"
      },
      "outputs": [],
      "source": [
        "def CheckReplies(tweet) :\n",
        "    FirstReply = ''\n",
        "    if '@' in tweet :\n",
        "        FirstReply = tweet.split('@')[1].split()[0]\n",
        "        FirstReply = FirstReply.replace(':','').replace(')','').lower()\n",
        "    else:\n",
        "        FirstReply = '***NoReply***'\n",
        "    return FirstReply\n",
        "\n",
        "def FirstLink(tweet) :\n",
        "    GetFirstLink = ''\n",
        "    if r'http://t.co/' in tweet :\n",
        "        GetFirstLink = [i for i in tweet.split() if 'http://t.co/' in i][0]\n",
        "    else:\n",
        "        GetFirstLink = '***NoLink***'\n",
        "    return GetFirstLink"
      ]
    },
    {
      "cell_type": "code",
      "execution_count": null,
      "id": "64b74407",
      "metadata": {
        "scrolled": true,
        "id": "64b74407",
        "outputId": "1d7548ae-f33c-4ee4-dba6-e36b629d8070"
      },
      "outputs": [
        {
          "name": "stdout",
          "output_type": "stream",
          "text": [
            "Wall time: 9 ms\n"
          ]
        }
      ],
      "source": [
        "%%time\n",
        "data['TweetLetters'] = data['text'].apply(lambda x : len(x))\n",
        "data['TweetWords'] = data['text'].apply(lambda x : len(x.split()))\n",
        "data['ReplyNumber'] = data['text'].apply(lambda n : n.count('@'))\n",
        "data['FirstReply'] = data['text'].apply(lambda T :  CheckReplies(T))\n",
        "data['LinkExistence'] = data['text'].apply(lambda x: r'http://t.co/' in x )\n",
        "data['FirstLink'] = data['text'].apply(lambda x: FirstLink(x))\n",
        "\n",
        "\n"
      ]
    },
    {
      "cell_type": "code",
      "execution_count": null,
      "id": "6e108075",
      "metadata": {
        "id": "6e108075",
        "outputId": "82159ef2-ad82-4d66-9edd-d74870fa20dd"
      },
      "outputs": [
        {
          "data": {
            "text/plain": [
              "***NoLink***               904\n",
              "http://t.co/9Oa2xAqOcM       2\n",
              "http://t.co/LrfbKkaXf5       1\n",
              "http://t.co/qg9nP7FY51”      1\n",
              "http://t.co/IcnJq7ezSl”      1\n",
              "                          ... \n",
              "http://t.co/Vql5Ql7eKW       1\n",
              "http://t.co/Pqk1HBeRFP       1\n",
              "http://t.co/TkJCdMCYEj       1\n",
              "http://t.co/9zzpYZcAJ8       1\n",
              "http://t.co/S6zd1tjbqu       1\n",
              "Name: FirstLink, Length: 129, dtype: int64"
            ]
          },
          "execution_count": 68,
          "metadata": {},
          "output_type": "execute_result"
        }
      ],
      "source": [
        "data['FirstLink'].value_counts()"
      ]
    },
    {
      "cell_type": "code",
      "execution_count": null,
      "id": "4b647da1",
      "metadata": {
        "id": "4b647da1"
      },
      "outputs": [],
      "source": []
    },
    {
      "cell_type": "code",
      "execution_count": null,
      "id": "6f8a56f4",
      "metadata": {
        "id": "6f8a56f4"
      },
      "outputs": [],
      "source": []
    },
    {
      "cell_type": "code",
      "execution_count": null,
      "id": "8783c1a4",
      "metadata": {
        "id": "8783c1a4"
      },
      "outputs": [],
      "source": []
    },
    {
      "cell_type": "code",
      "execution_count": null,
      "id": "7377eff2",
      "metadata": {
        "id": "7377eff2",
        "outputId": "87718d59-848b-4c8c-9c9b-5bfdc0eeb5f8"
      },
      "outputs": [
        {
          "data": {
            "text/plain": [
              "False    904\n",
              "True     129\n",
              "Name: LinkExistence, dtype: int64"
            ]
          },
          "execution_count": 46,
          "metadata": {},
          "output_type": "execute_result"
        }
      ],
      "source": [
        "data['LinkExistence'].value_counts()"
      ]
    },
    {
      "cell_type": "code",
      "execution_count": null,
      "id": "29f2c66d",
      "metadata": {
        "id": "29f2c66d",
        "outputId": "003e6476-f742-430d-f9f7-e2b99ede5131"
      },
      "outputs": [
        {
          "data": {
            "text/plain": [
              "['@GabTarquini @BBCDanielS @BBCWorld Cossette, a broadcast journalist with Europe1 News. Hope that helps mate. From: http://t.co/dOP4uBRBSr',\n",
              " 'iSSlam #tcot #UK #Cameron #EU #BREAKING @GuidoFawkes @friendsofbibi http://t.co/0cQdGEi1rT',\n",
              " 'Charlie Hebdo’s Last Tweet Before Shootings http://t.co/9Oa2xAqOcM http://t.co/skJHNEQcn0',\n",
              " '@LondonerVince Why #isis blindly obey their #radical #imams? Read here: http://t.co/WnFoxPmjTI',\n",
              " '10:28am Charlie Hebdo account mocks ISIS leader, wishing him \"good health and best wishes\" http://t.co/9Oa2xAqOcM http://t.co/uYXayKLA7q',\n",
              " 'Wow: AFP says men were armed with kalachnikovs &amp; rocketlauncher. Follow @stefandevries who Just arrived at scene.. http://t.co/l2eodMvI0k',\n",
              " 'Voor live-ontwikkeling ter plekke aanslag Charlie Hebdo, volg “@stefandevries: Just arrived at scene.. #charliehebdo http://t.co/HfzVNcWCGm”',\n",
              " '“@stefandevries: Just arrived at scene of massacre #Paris #charliehebdo http://t.co/7MNNvKb79m”@Irmak_Ye',\n",
              " 'Just arrived at scene of massacre #Paris #charliehebdo http://t.co/bxDwfuqRz8',\n",
              " 'RT @Observers: Photo  @WilliamMolinie http://t.co/C4n3X0v383” Así ha quedado el coche. #CharlieHebdo',\n",
              " 'Oulah “@Observers: Police car with bullet holes in front of Charlie hebdo headquarter. Photo  @WilliamMolinie http://t.co/dlM7owwAi4”',\n",
              " '“@Observers: Police car with bullet holes in front of Charlie hebdo headquarter. Photo  @WilliamMolinie http://t.co/vZY9EdVFOj”',\n",
              " '“@Observers: Police car with bullet holes in front of Charlie hebdo headquarter. Photo  @WilliamMolinie http://t.co/cD7KDMqcDn”',\n",
              " 'Horrible!  “@Observers: Police car with bullet holes in front of Charlie hebdo headquarter. Photo  @WilliamMolinie http://t.co/Fuv9j8YlYM”',\n",
              " '“@Observers: Police car with bullet holes in front of Charlie hebdo headquarter. Photo  @WilliamMolinie http://t.co/CePkamOXOR” Sad News',\n",
              " '“@Observers: Police car with bullet holes in front of Charlie hebdo headquarter. Photo  @WilliamMolinie http://t.co/HSaXvSsHrf”Dialoga Dilma',\n",
              " 'Police car with bullet holes in front of Charlie hebdo headquarter. Photo  @WilliamMolinie http://t.co/lzQdhJ6kxR',\n",
              " '#Paris RT @JulienPain: Police car with bullet holes in front of Charlie hebdo headquarter. Photo  @WilliamMolinie http://t.co/I6oUE5kanw',\n",
              " 'Police car with bullet holes in front of Charlie hebdo headquarter. Photo  @WilliamMolinie http://t.co/k6inhBmGsf',\n",
              " '@lacatchat If you feel ashamed by what another Jew does, you are doing it wrong.  http://t.co/UvmwZN8kU9',\n",
              " '@Rolo_Tamasi @MrHarryCole @GazTheJourno http://t.co/S8AjK6wSCy',\n",
              " 'Jews, Catholics, Muslims, white people, black people. Everyone attacked by Charlie Hebdo, yet who reacts like this? http://t.co/fkvhfJxPoO',\n",
              " \"'It's a massacre. There are dead!' employee of Charlie Hebdo tells French media outlet before call disconnects http://t.co/Q27XnP3AS3\",\n",
              " '@NatSecSoc just wrote this on Charlie Hebdo http://t.co/vEP2kgwUQy',\n",
              " '@RuwaydaMustafah @Dr_Afaq BREAKING: Paris: 10 dead in attack on satirical paper that poked fun at Mohammed http://t.co/9et92K8Pcd …',\n",
              " \"#CharlieHebdo published a cartoon of the notorious #ISIS leader last week (They've just tweeted the pic again). http://t.co/YYyxzNaFFb\",\n",
              " '@JuliaHB1 @sandylanceley http://t.co/VGynCN8fwK',\n",
              " \"French newspaper Charlie Hebdo's last tweet before gunmen attack http://t.co/nO6OSNnnbU http://t.co/XyhM5zmKHy via @MailOnline\",\n",
              " \"French newspaper Charlie Hebdo's last tweet before gunmen attack http://t.co/vsjId0EWRk http://t.co/yJhgbhIXQ6\",\n",
              " 'RT @mathieuvonrohr Today\\'s #CharlieHebdo cover on Houellebecq: \"In 2022 I\\'ll observe Ramadan\" http://t.co/mlAMrh0h4O',\n",
              " 'Today\\'s #CharlieHebdo cover on Houellebecq: \"In 2022 I\\'ll observe Ramadan\" http://t.co/G7zbitA3Cj',\n",
              " '#CharlieHebdo. That is all. http://t.co/6DnUMEGdgR Via @alexmassie',\n",
              " '“@alexmassie: #CharlieHebdo. That is all. http://t.co/DKvYemZsjn” equal opportunity offender!',\n",
              " 'Covers “@alexmassie: #CharlieHebdo. That is all. http://t.co/f3957wS8pj”',\n",
              " '#CharlieHebdo. That is all. http://t.co/ShXqtxUtGH (@alexmassie)',\n",
              " '#CharlieHebdo. That is all. http://t.co/9zzpYZcAJ8',\n",
              " '@JPSargeant78 http://t.co/TkJCdMCYEj',\n",
              " '.@JPSargeant78 #CharlieHebdo http://t.co/Pqk1HBeRFP',\n",
              " \"@JPSargeant78 @TRobinsonNewEra I blieve that it's because of this one http://t.co/Vql5Ql7eKW\",\n",
              " '@JPSargeant78 @TRobinsonNewEra It is probably this drawing http://t.co/dx63HKqPj7',\n",
              " 'If this cartoon is why #CharlieHebdo staff have been shot at, all publications should show solidarity and republish http://t.co/LGuUi7dj1u',\n",
              " '“@jacobinism: Solidarity with Charlie Hebdo. http://t.co/BqpvpOtPFR”',\n",
              " 'Solidarity with Charlie Hebdo. http://t.co/gvLp0NwLax',\n",
              " '@ceciliauddenm @gotiskaklubben Har även gjort satir på kristna: http://t.co/NDwsOca6Z8',\n",
              " '@ceciliauddenm @gotiskaklubben och judar http://t.co/hV7ra1NXkH',\n",
              " '@ceciliauddenm @gotiskaklubben och UKIP/UK: http://t.co/8d1j40rlxf',\n",
              " 'MT @ceciliauddenm: Mag\\'s Nov 2011 CHARIA HEBDO \"guest-edited\" by Muhammad\"100 lashes of whip if u don\\'t die laughing\" http://t.co/yZxLDzrGuj',\n",
              " '@ceciliauddenm ISLAM’S VIEW ON TERRORISM AND JIHAD | http://t.co/hNIw7ZHOlE\"',\n",
              " 'Charlie Hebdo\\'s Nov 2011 CHARIA HEBDO \"guest-edited\" by Muhammad:\"100 lashes of the whip if you don\\'t die laughing.\" http://t.co/5EzG448CNm',\n",
              " 'Per quello che vale sarebbe bello che questa vignetta venisse condivisa da tutti cc @fabiochiusi via @DavidKenner http://t.co/QV3wFBbGPE',\n",
              " '@DavidKenner @Dr_mfali بالصور...القنابل العنقودية الامريكية الاسرائيلي في حوزة #داعش التفاصيل هنا http://t.co/JlBqbP4zVJ',\n",
              " 'Charlie Hebdo\\'s last cartoon on Twitter: Abu Bakr al-Baghdadi saying \"and especially, health!\" (New Year\\'s greeting) http://t.co/UMEWDeR6z4',\n",
              " '@EnaLolena @antoniorossi No al radical. Libertad de expresión, no al terrorismo de cualquier signo,  #JeSuisCharlie http://t.co/QQEn9TWFoI',\n",
              " 'Jews, Catholics, Muslims, white people, black people. Everyone attacked by Charlie Hebdo, yet who reacts like this? http://t.co/gG5ZCJK9Ac',\n",
              " '“@konbini: \"Love Stronger Than Hate.\" All our thoughts with #CharlieHebdo http://t.co/ZcKELP7DuS”',\n",
              " 'Os caras mataram por causa disso!!😒😤\\n\\n“@konbini: \"Love Stronger Than Hate.\" All our thoughts with #CharlieHebdo http://t.co/wq2PSS3Crp”',\n",
              " '\"@konbini: \"Love Stronger Than Hate.\" All our thoughts with #CharlieHebdo http://t.co/oNycobbjqE\"\\rUntil Hate gets a submachine gun 😩',\n",
              " '\"Love Stronger Than Hate.\" All our thoughts with #CharlieHebdo http://t.co/BqRLXRZdJT',\n",
              " 'This is the #CharlieHebdo cover of Prophet Mohammed that provoked firebombing of its offices http://t.co/hOUA9DrVaK http://t.co/vDj5EGiRRq',\n",
              " \"I can't believe how filthy is the @Independent: http://t.co/DAvZiXrsDp http://t.co/q0VI2WERjF”\",\n",
              " \"“@Independent: Why it's Charlie Hebdo's right to draw Muhammad http://t.co/ITCl7Z5YWA http://t.co/lAjEVEtGNV”\\n\\nYou got in quick\",\n",
              " '@JosephineKoh @Independent http://t.co/Zx6QBC0Bhh',\n",
              " \"Why it's Charlie Hebdo's right to draw Muhammad http://t.co/GlF9dgwFS0 http://t.co/Vkfw5ZbmvC\",\n",
              " '@MehdiTERRAK  hey look at these cool painted rocks http://t.co/7JXEzmMDZf',\n",
              " '@KarlreMarks @saikatd. Freedom of speech antagonistc to islam is not done. http://t.co/R37q8JwNtS',\n",
              " '@KarlreMarks @saikatd. Freedom of speech antagonistc to islam is not done. http://t.co/Mw0g0Ukkdy',\n",
              " '.@KarlreMarks Freedom of speech for whom? http://t.co/edptV2opVV http://t.co/uZlUhTsHDW',\n",
              " '@ggreenwald Live BBC updates here as well: http://t.co/2WSWSdBOMM',\n",
              " '@ggreenwald live @FRANCE24 blog and video http://t.co/HEZedcvmfq',\n",
              " 'RT @ggreenwald: The Guardian has live coverage of the Paris shooting at Charlie Hebdo  http://t.co/cxcYiTceQV',\n",
              " \"@MonaHol @ggreenwald https://t.co/O61dvo1c1b http://t.co/Mk2qzt3x74 there're more but I'm lazy. He hates calling jihadi terrorism what it is\",\n",
              " 'The Guardian has live coverage of the Paris shooting at Charlie Hebdo  http://t.co/M27vO7xFIk',\n",
              " '.@surfnuttz @LauraHuu http://t.co/9HVMzhBCfw',\n",
              " 'in support of those that have died today in Paris #CharlieHebdo #freedomwillNeverDie http://t.co/FkkDZXChdt',\n",
              " 'More Charlie Hebdo covers, including \"the life of Mohamed\". These are people willing to kill over a cartoon. http://t.co/VAEnDpBYSu',\n",
              " 'ayy lmao\\n@J_Bloodworth @Ladyofhadess http://t.co/AbkQgToKCT',\n",
              " '@malachybrowne @BHayesCurtin \\nThere are many potential attackers ..Zionists included ..why single out Muslims? http://t.co/STPBDWQR8S',\n",
              " \"@malachybrowne @BHayesCurtin \\nThere's 31 covers here yet you singled out image representing Muslims..why? http://t.co/LfhXicrQ8m\",\n",
              " \"@BHayesCurtin @malachybrowne \\nWhy jump to conclusions &amp; blame 1 set of people when there's potentially 31 perps.? http://t.co/9dcvMts83G\",\n",
              " '@malachybrowne @BHayesCurtin \\nAnyone can say that.. How did they get away after being trapped by Cops? http://t.co/ZFvsWeWbau',\n",
              " '@malachybrowne @BHayesCurtin \\nThe car would have to reverse its way out giving cops plenty of time to catch them http://t.co/dxUcq4iLMt',\n",
              " '@DanieleSalvoldi @malachybrowne @BHayesCurtin http://t.co/3uEDjjwzsJ',\n",
              " \"Not 1st attack on #CharlieHebdo. Office was firebombed on 2 Nov '11 over controvers. caricature of Prophet Muhammad http://t.co/0wAINRJ1Z7\",\n",
              " '“@BBCBreaking: Paris on max alert after #CharlieHebdo attack, officials say as President Hollande arrives at scene http://t.co/qg9nP7FY51”',\n",
              " '“@BBCBreaking: Paris on maximum alert after #CharlieHebdo attack, officials say President Hollande arrives at scene http://t.co/IcnJq7ezSl”',\n",
              " 'RT @BBCBreaking: Paris on maximum alert after #CharlieHebdo attack, officials say as Pres. Hollande arrives at scene http://t.co/YJ9hPmdez6',\n",
              " '“@BBCBreaking: Paris on maximum alert after #CharlieHebdo attack, officials say as Pres Hollande arrives at scene http://t.co/0ySg1wryLJ”',\n",
              " '@BBCBreaking All Muslims are not terrorists but almost all terrorists irrespective of place are MUSLIMS #CharlieHebdo http://t.co/JqxIAspORL',\n",
              " 'Paris on maximum alert after #CharlieHebdo attack, officials say as President Hollande arrives at scene http://t.co/MmxR2nmi5R',\n",
              " '@SkyNews @sarahleah1 Help make it happen for Gaza Winter Appeal on @indiegogo http://t.co/LrfbKkaXf5 http://t.co/RhJjK8wpNt',\n",
              " '“@SkyNews: Paris alert status raised highest level #CharlieHebdo gunmen reportedly on the run http://t.co/Ckrz6lUFbm http://t.co/fGiG9HaYZJ”',\n",
              " 'Paris alert status raised to the highest level with #CharlieHebdo gunmen reportedly on the run http://t.co/xcK8lY9IeR http://t.co/tQuxQ06Q7f',\n",
              " \"“@pieterkleinrtl: '...but I will to the death defend your right to say it'.\\n#charliehebdo\\n#voltaire http://t.co/PmXOH5ZJnm”\\n\\nNiet in islam.\",\n",
              " '@pieterkleinrtl @Mrsvanderlinden Quote is van de biografe van Voltaire, niet van hem zelf. Maar boodschap is helder http://t.co/0jIs2ReBAj',\n",
              " \"RT @pieterkleinrtl : '...but I will to the death defend your right to say it'.\\n\\n#charliehebdo\\n#voltaire http://t.co/zNJdzwyxYs\",\n",
              " \"..vrijheid..“@pieterkleinrtl: '...but I will to the death defend your right to say it'.\\n\\n#charliehebdo\\n#voltaire http://t.co/2UHAiJZHD7”\",\n",
              " \"“@pieterkleinrtl: '...but I will to the death defend your right to say it'.\\n\\n#charliehebdo\\n#voltaire http://t.co/L0b4Va8pf2”\",\n",
              " \"Amen “@pieterkleinrtl: '...but I will to the death defend your right to say it'.\\n\\n#charliehebdo\\n#voltaire http://t.co/7SF7OoxqhH”\",\n",
              " \"'...but I will to the death defend your right to say it'.\\n\\n#charliehebdo\\n#voltaire http://t.co/oFEHT8Xx3v\",\n",
              " 'RT @RT_com VIDEO from the scene of fatal shooting in Paris http://t.co/U7dEn9BNDG  #CharlieHebdo http://t.co/Mn1vk8iSpV',\n",
              " 'VIDEO from the scene of fatal shooting in Paris http://t.co/sL3aG464Lt #CharlieHebdo http://t.co/FLC3mR5C2S',\n",
              " 'It would go some way as a tribute to those killed at #CharlieHebdo if papers in every democracy published this Thurs http://t.co/CyqwWWWgJh',\n",
              " 'French president #Hollande says there is no doubt attack on #CharlieHebdo is terrorist attack. http://t.co/Rve1Lp0EXf http://t.co/8LFA5LFSnS',\n",
              " 'DEVELOPING: Paris on high terrorist alert after #CharlieHebdo shooting - Hollande http://t.co/3Jsosc7yl3 http://t.co/Lvv3J8o6e8',\n",
              " '@jenanmoussa had to share this on my site. Thank you! http://t.co/2z2tKR6O2N',\n",
              " '@ThomasRadcliff7 @atkinson_alex @jenanmoussa @EliseBarthet http://t.co/VFqx0KfTE0',\n",
              " '@atkinson_alex @groggydice @jenanmoussa @EliseBarthet We shall cast terror into the hearts of those who disbelieve http://t.co/FTty6Hgl8R',\n",
              " 'Check this photo via journo @EliseBarthet. Alleged pic of the gunmen facing a police car near #CharlieHebdo offices: http://t.co/eBpt190LD0',\n",
              " '.@Osoronga My views on blasphemy and support for freedom of speech are unambiguous. See http://t.co/cX5tNBcxCQ\\n@OwenJones84',\n",
              " '@Necromorph_ you ought to read this http://t.co/nJZGpQAIUA',\n",
              " '“@DavidJo52951945: Here are some of the satirical pictures Charlie Hebdo have produced #freespeech http://t.co/oMPjDAJ9Na”',\n",
              " 'Here are some of the satirical pictures Charlie Hebdo have produced #freespeech #BanIslam http://t.co/m4OaNCf5e0',\n",
              " 'If only they could have heard the message... RT @jane__bradley #CharlieHebdo: Love is stronger than hate. http://t.co/uerJugNdLo',\n",
              " '“@jane__bradley: #CharlieHebdo: Love is stronger than hate. http://t.co/5oS71ZP0CF”',\n",
              " 'RT “@Hegghammer: “@jane__bradley: #CharlieHebdo: Love is stronger than hate. http://t.co/BV8kMBJdxX””',\n",
              " '@jane__bradley    Islam Denounces Terrorism\\nhttp://t.co/gCwKWElhFr',\n",
              " 'What a tragic day... @jane__bradley: #CharlieHebdo: Love is stronger than hate. http://t.co/rfKdUsnpBh',\n",
              " '“@jane__bradley: #CharlieHebdo: Love is stronger than hate. http://t.co/9yoXMGU48D” (via @rabow)',\n",
              " '#CharlieHebdo: Love is stronger than hate. http://t.co/23KHz2OsH3',\n",
              " \"“@AFPphoto: #CharlieHebdo/Hollande: Media shooting was 'undoubtedly terrorist attack'.Photo: Kenzo Tribouillard #AFP http://t.co/dTt2sHCLeY”\",\n",
              " \"仏パリの銃撃事件。オランド大統領が「疑いないテロリズム」と非難。@AFPphoto Hollande: Media shooting was 'undoubtedly terrorist attack'.  http://t.co/txFvWrzZIX\",\n",
              " \"#CharlieHebdo - Hollande: Media shooting was 'undoubtedly terrorist attack'. Photo: Kenzo Tribouillard #AFP http://t.co/ZK41w7J7yc\",\n",
              " \"Spread this cover in solidarity with the victims at Charlie Hebdo. Don't let the sword conquer the pen. http://t.co/XVkPPbkLhn\",\n",
              " 'TREND IT #IStandWithFrance http://t.co/7M7PwFJnkz',\n",
              " 'BREAKING: Astonishing video of the Paris terror attack as it was happening &gt; http://t.co/sglPyWCWhL (via @BBCDanielS ) #CharlieHebdo',\n",
              " \"@markusjuva @sandripavli We'll end up with this. http://t.co/zTTrvtsXkq\",\n",
              " '@markusjuva You mean people like this?  @sandripavli http://t.co/spsSDVJWSn',\n",
              " '@markusjuva @sandripavli http://t.co/pfWmDmU7rS',\n",
              " '@markusjuva If anything, the police is not going to paradise. http://t.co/S6zd1tjbqu']"
            ]
          },
          "execution_count": 50,
          "metadata": {},
          "output_type": "execute_result"
        }
      ],
      "source": [
        "data[data['LinkExistence']==True]['text'].tolist()"
      ]
    },
    {
      "cell_type": "code",
      "execution_count": null,
      "id": "565e86e4",
      "metadata": {
        "id": "565e86e4",
        "outputId": "71d64b91-c8ff-4d25-c62d-a08fd8183675"
      },
      "outputs": [
        {
          "data": {
            "text/html": [
              "<div>\n",
              "<style scoped>\n",
              "    .dataframe tbody tr th:only-of-type {\n",
              "        vertical-align: middle;\n",
              "    }\n",
              "\n",
              "    .dataframe tbody tr th {\n",
              "        vertical-align: top;\n",
              "    }\n",
              "\n",
              "    .dataframe thead th {\n",
              "        text-align: right;\n",
              "    }\n",
              "</style>\n",
              "<table border=\"1\" class=\"dataframe\">\n",
              "  <thead>\n",
              "    <tr style=\"text-align: right;\">\n",
              "      <th></th>\n",
              "      <th>truncated</th>\n",
              "      <th>text</th>\n",
              "      <th>in_reply_to_status_id</th>\n",
              "      <th>id</th>\n",
              "      <th>favorite_count</th>\n",
              "      <th>source</th>\n",
              "      <th>retweeted</th>\n",
              "      <th>coordinates</th>\n",
              "      <th>entities</th>\n",
              "      <th>in_reply_to_screen_name</th>\n",
              "      <th>...</th>\n",
              "      <th>geo</th>\n",
              "      <th>in_reply_to_user_id_str</th>\n",
              "      <th>lang</th>\n",
              "      <th>created_at</th>\n",
              "      <th>in_reply_to_status_id_str</th>\n",
              "      <th>Label</th>\n",
              "      <th>TweetLetters</th>\n",
              "      <th>TweetWords</th>\n",
              "      <th>ReplyNumber</th>\n",
              "      <th>FirstReply</th>\n",
              "    </tr>\n",
              "  </thead>\n",
              "  <tbody>\n",
              "    <tr>\n",
              "      <th>0</th>\n",
              "      <td>False</td>\n",
              "      <td>Now 10 dead in a shooting there today RT \"@BBC...</td>\n",
              "      <td>5.530000e+17</td>\n",
              "      <td>5.530000e+17</td>\n",
              "      <td>0</td>\n",
              "      <td>&lt;a href=\"http://twitter.com/download/iphone\" r...</td>\n",
              "      <td>False</td>\n",
              "      <td>NaN</td>\n",
              "      <td>{'symbols': [], 'user_mentions': [{'id': 33165...</td>\n",
              "      <td>BBCDanielS</td>\n",
              "      <td>...</td>\n",
              "      <td>NaN</td>\n",
              "      <td>331658004.0</td>\n",
              "      <td>en</td>\n",
              "      <td>Wed Jan 07 11:14:08 +0000 2015</td>\n",
              "      <td>5.530000e+17</td>\n",
              "      <td>0</td>\n",
              "      <td>138</td>\n",
              "      <td>23</td>\n",
              "      <td>1</td>\n",
              "      <td>bbcdaniels</td>\n",
              "    </tr>\n",
              "    <tr>\n",
              "      <th>1</th>\n",
              "      <td>False</td>\n",
              "      <td>@BBCDanielS @BBCWorld I'm guessing this is bei...</td>\n",
              "      <td>5.530000e+17</td>\n",
              "      <td>5.530000e+17</td>\n",
              "      <td>0</td>\n",
              "      <td>&lt;a href=\"http://twitter.com\" rel=\"nofollow\"&gt;Tw...</td>\n",
              "      <td>False</td>\n",
              "      <td>NaN</td>\n",
              "      <td>{'symbols': [], 'user_mentions': [{'id': 33165...</td>\n",
              "      <td>BBCDanielS</td>\n",
              "      <td>...</td>\n",
              "      <td>NaN</td>\n",
              "      <td>331658004.0</td>\n",
              "      <td>en</td>\n",
              "      <td>Wed Jan 07 11:20:08 +0000 2015</td>\n",
              "      <td>5.530000e+17</td>\n",
              "      <td>0</td>\n",
              "      <td>93</td>\n",
              "      <td>14</td>\n",
              "      <td>2</td>\n",
              "      <td>bbcdaniels</td>\n",
              "    </tr>\n",
              "    <tr>\n",
              "      <th>2</th>\n",
              "      <td>False</td>\n",
              "      <td>@BBCDanielS @BBCWorld why would you mention th...</td>\n",
              "      <td>5.530000e+17</td>\n",
              "      <td>5.530000e+17</td>\n",
              "      <td>0</td>\n",
              "      <td>&lt;a href=\"http://twitter.com/download/iphone\" r...</td>\n",
              "      <td>False</td>\n",
              "      <td>NaN</td>\n",
              "      <td>{'symbols': [], 'user_mentions': [{'id': 33165...</td>\n",
              "      <td>BBCDanielS</td>\n",
              "      <td>...</td>\n",
              "      <td>NaN</td>\n",
              "      <td>331658004.0</td>\n",
              "      <td>en</td>\n",
              "      <td>Wed Jan 07 11:20:18 +0000 2015</td>\n",
              "      <td>5.530000e+17</td>\n",
              "      <td>0</td>\n",
              "      <td>95</td>\n",
              "      <td>12</td>\n",
              "      <td>2</td>\n",
              "      <td>bbcdaniels</td>\n",
              "    </tr>\n",
              "    <tr>\n",
              "      <th>3</th>\n",
              "      <td>False</td>\n",
              "      <td>@BBCDanielS @BBCWorld perps identified?</td>\n",
              "      <td>5.530000e+17</td>\n",
              "      <td>5.530000e+17</td>\n",
              "      <td>0</td>\n",
              "      <td>&lt;a href=\"http://twitter.com/download/iphone\" r...</td>\n",
              "      <td>False</td>\n",
              "      <td>NaN</td>\n",
              "      <td>{'symbols': [], 'user_mentions': [{'id': 33165...</td>\n",
              "      <td>BBCDanielS</td>\n",
              "      <td>...</td>\n",
              "      <td>NaN</td>\n",
              "      <td>331658004.0</td>\n",
              "      <td>en</td>\n",
              "      <td>Wed Jan 07 11:20:54 +0000 2015</td>\n",
              "      <td>5.530000e+17</td>\n",
              "      <td>0</td>\n",
              "      <td>39</td>\n",
              "      <td>4</td>\n",
              "      <td>2</td>\n",
              "      <td>bbcdaniels</td>\n",
              "    </tr>\n",
              "    <tr>\n",
              "      <th>4</th>\n",
              "      <td>False</td>\n",
              "      <td>@BBCDanielS @BBCWorld who is charlie hebdo?</td>\n",
              "      <td>5.530000e+17</td>\n",
              "      <td>5.530000e+17</td>\n",
              "      <td>0</td>\n",
              "      <td>&lt;a href=\"http://twitter.com/download/android\" ...</td>\n",
              "      <td>False</td>\n",
              "      <td>NaN</td>\n",
              "      <td>{'symbols': [], 'user_mentions': [{'id': 33165...</td>\n",
              "      <td>BBCDanielS</td>\n",
              "      <td>...</td>\n",
              "      <td>NaN</td>\n",
              "      <td>331658004.0</td>\n",
              "      <td>en</td>\n",
              "      <td>Wed Jan 07 11:24:59 +0000 2015</td>\n",
              "      <td>5.530000e+17</td>\n",
              "      <td>0</td>\n",
              "      <td>43</td>\n",
              "      <td>6</td>\n",
              "      <td>2</td>\n",
              "      <td>bbcdaniels</td>\n",
              "    </tr>\n",
              "  </tbody>\n",
              "</table>\n",
              "<p>5 rows × 25 columns</p>\n",
              "</div>"
            ],
            "text/plain": [
              "   truncated                                               text  \\\n",
              "0      False  Now 10 dead in a shooting there today RT \"@BBC...   \n",
              "1      False  @BBCDanielS @BBCWorld I'm guessing this is bei...   \n",
              "2      False  @BBCDanielS @BBCWorld why would you mention th...   \n",
              "3      False            @BBCDanielS @BBCWorld perps identified?   \n",
              "4      False        @BBCDanielS @BBCWorld who is charlie hebdo?   \n",
              "\n",
              "   in_reply_to_status_id            id  favorite_count  \\\n",
              "0           5.530000e+17  5.530000e+17               0   \n",
              "1           5.530000e+17  5.530000e+17               0   \n",
              "2           5.530000e+17  5.530000e+17               0   \n",
              "3           5.530000e+17  5.530000e+17               0   \n",
              "4           5.530000e+17  5.530000e+17               0   \n",
              "\n",
              "                                              source  retweeted coordinates  \\\n",
              "0  <a href=\"http://twitter.com/download/iphone\" r...      False         NaN   \n",
              "1  <a href=\"http://twitter.com\" rel=\"nofollow\">Tw...      False         NaN   \n",
              "2  <a href=\"http://twitter.com/download/iphone\" r...      False         NaN   \n",
              "3  <a href=\"http://twitter.com/download/iphone\" r...      False         NaN   \n",
              "4  <a href=\"http://twitter.com/download/android\" ...      False         NaN   \n",
              "\n",
              "                                            entities in_reply_to_screen_name  \\\n",
              "0  {'symbols': [], 'user_mentions': [{'id': 33165...              BBCDanielS   \n",
              "1  {'symbols': [], 'user_mentions': [{'id': 33165...              BBCDanielS   \n",
              "2  {'symbols': [], 'user_mentions': [{'id': 33165...              BBCDanielS   \n",
              "3  {'symbols': [], 'user_mentions': [{'id': 33165...              BBCDanielS   \n",
              "4  {'symbols': [], 'user_mentions': [{'id': 33165...              BBCDanielS   \n",
              "\n",
              "   ...  geo  in_reply_to_user_id_str  lang                      created_at  \\\n",
              "0  ...  NaN              331658004.0    en  Wed Jan 07 11:14:08 +0000 2015   \n",
              "1  ...  NaN              331658004.0    en  Wed Jan 07 11:20:08 +0000 2015   \n",
              "2  ...  NaN              331658004.0    en  Wed Jan 07 11:20:18 +0000 2015   \n",
              "3  ...  NaN              331658004.0    en  Wed Jan 07 11:20:54 +0000 2015   \n",
              "4  ...  NaN              331658004.0    en  Wed Jan 07 11:24:59 +0000 2015   \n",
              "\n",
              "  in_reply_to_status_id_str Label  TweetLetters TweetWords ReplyNumber  \\\n",
              "0              5.530000e+17     0           138         23           1   \n",
              "1              5.530000e+17     0            93         14           2   \n",
              "2              5.530000e+17     0            95         12           2   \n",
              "3              5.530000e+17     0            39          4           2   \n",
              "4              5.530000e+17     0            43          6           2   \n",
              "\n",
              "   FirstReply  \n",
              "0  bbcdaniels  \n",
              "1  bbcdaniels  \n",
              "2  bbcdaniels  \n",
              "3  bbcdaniels  \n",
              "4  bbcdaniels  \n",
              "\n",
              "[5 rows x 25 columns]"
            ]
          },
          "execution_count": 43,
          "metadata": {},
          "output_type": "execute_result"
        }
      ],
      "source": [
        "data.head()"
      ]
    },
    {
      "cell_type": "code",
      "execution_count": null,
      "id": "9d8f3dcc",
      "metadata": {
        "id": "9d8f3dcc",
        "outputId": "e119c552-2ac3-42cb-d381-bef4e6c35bf2"
      },
      "outputs": [
        {
          "data": {
            "text/plain": [
              "array(['bbcdaniels', 'im_a_5h_voter', 'gabtarquini', 's_jakobsen',\n",
              "       'lj_kulwicki', 'neesa_h', 'usmanka', 'pepsiplusconker',\n",
              "       '***NoReply***', 'guidofawkes', 'pasty_muncher', 'jamesdelingpole',\n",
              "       'mr_jdtraynor', 'eddiethebarstew', 'kvet79', 'sollygratia',\n",
              "       'robbiewaldie', 'njh1959', 'mkingscott', 'britishwelsh',\n",
              "       'andyblueskyz', 'leeds9east', 'londonervince', 'maxwindcowie',\n",
              "       'esssie31', 'katiazev', 'stefandevries', 'rimsahar',\n",
              "       'hantenbroeke', 'hazelbakersky', 'observers', 'dcrandy_pickles',\n",
              "       'ukresponsecop', 'williammolinie', 'julienpain', 'sandradeaguiar',\n",
              "       'melanieherault', 'john_mcguirk', 'nickcohen4', 'drmcarley',\n",
              "       'vexedeagle', 'hannahjames40', 'mrharrycole', 'rolo_tamasi',\n",
              "       'mattredmore', 'holbornlolz', 'teachertwit2', 'socialistdawn',\n",
              "       'unknown_callers', 'allenstarr1', 'lacatchat', 'negijew',\n",
              "       'salvey1', 'klartext89', 'rexgrrr8', 'rc_848', 'fitfeather1903',\n",
              "       'cridlyn', 'dylanllyr', 'lalashwa', 'gilchristawake',\n",
              "       'hiddenheritage', 'leobrag123', 'rt_com', 'natsecsoc',\n",
              "       'ruwaydamustafah', 'naheemsays', 'juliahb1', 'hatekufr_4',\n",
              "       'cannyfellow', 'neiljirving24', 'markattwater', 'frasonicdc',\n",
              "       'thereal_elcid', 'mailonline', 'soberphobiccc', 'juice_pre',\n",
              "       'mathieuvonrohr', 'alexmassie', 'canuckinarabia', 'philmvm',\n",
              "       'ashgpta', 'jpsargeant78', 'thisisward', 'iamthebeef', 'dazk84',\n",
              "       'jacobinism', 'jhendricks2301', 'dgbjpn', 'ceciliauddenm',\n",
              "       'jimlefevre', 'fabiochiusi', 'davidkenner', 'enalolena',\n",
              "       'cleisback', 'goscatala', 'alichatur', 'chrchristensen', 'konbini',\n",
              "       'ouailjck', 'knutos', 'djack_journo', 'edwardaespinoza',\n",
              "       'jeremynewberger', 'independent', 'salafi7491', 'anarchic_teapot',\n",
              "       'esperanza543', 'chrisarmsby', 'josephinekoh', 'stelliloo',\n",
              "       'paulkingsley16', 'mehditerrak', 'uberalex', 'arden_forester',\n",
              "       'jimmya', 'andrew_mueller', 'simon_hofmann', 'jprivat01',\n",
              "       'chrisjdavies', 'karlremarks', 'ahrnad', 'ggreenwald', 'cmcawley',\n",
              "       'adnansadiq01', 'ggreenwald.', 'jonsnowc4', 'beannymcd',\n",
              "       'adamglantz', 'monahol', 'phammondmp', 'stalkerhunter44',\n",
              "       'domheroellis', 'surfnuttz', 'j_bloodworth', 'galaturco',\n",
              "       'artekkers', 'littledutchva', 'aaenmss17', 'malachybrowne',\n",
              "       'joeman42', 'bhayescurtin', 'danielesalvoldi', 'bbcbreaking',\n",
              "       'erickogi', 'joshelliott32', 'ipromptla', 'skynews',\n",
              "       'joshharper13', 'deaddawg64', 'banjohfuhruhur', 'pieterkleinrtl',\n",
              "       'aanklacht', 'satinaboupoupou', 'ravinaproject', 'fully_badass',\n",
              "       'goodguybuddie', 'eakaerick', 'georga2012', 'rbassilian',\n",
              "       '_bekkyc_', 'gobospring', 'euronews.', 'euronews', 'jenanmoussa',\n",
              "       'thomasradcliff7', 'groggydice', 'atkinson_alex', 'elisebarthet.',\n",
              "       'mohammed_amin', 'the_stuart_reid', 'necromorph_', 'osoronga',\n",
              "       'imgregcook', 'cylonone', 'ticgran', 'adrian_sis',\n",
              "       'davidjo52951945', 'garyt30', 'davidjames2100', 'hollyammon',\n",
              "       'leep59', 'labegirlm4', 'hrtbps', 'chris_emerson', 'quebectango',\n",
              "       'jane__bradley', 'hegghammer', 'frankpangallo', 'afpphoto',\n",
              "       'ivovegter', 'timsullivan23', 'piersmorgan', 'louiebankz',\n",
              "       'auntie_allison', 'riekiedplessis', 'smiggyswfc', 'alexstubb',\n",
              "       'liedeslotta', 'sandripavli', 'reijoruokanen', 'juhavirta1',\n",
              "       'tuomoma', 'markusjuva'], dtype=object)"
            ]
          },
          "execution_count": 44,
          "metadata": {},
          "output_type": "execute_result"
        }
      ],
      "source": [
        "data['FirstReply'].unique()"
      ]
    },
    {
      "cell_type": "code",
      "execution_count": null,
      "id": "a233a399",
      "metadata": {
        "id": "a233a399",
        "outputId": "7b75d4f0-dcd9-450f-e78f-d9bf4c288888"
      },
      "outputs": [
        {
          "data": {
            "text/html": [
              "<div>\n",
              "<style scoped>\n",
              "    .dataframe tbody tr th:only-of-type {\n",
              "        vertical-align: middle;\n",
              "    }\n",
              "\n",
              "    .dataframe tbody tr th {\n",
              "        vertical-align: top;\n",
              "    }\n",
              "\n",
              "    .dataframe thead th {\n",
              "        text-align: right;\n",
              "    }\n",
              "</style>\n",
              "<table border=\"1\" class=\"dataframe\">\n",
              "  <thead>\n",
              "    <tr style=\"text-align: right;\">\n",
              "      <th></th>\n",
              "      <th>text</th>\n",
              "      <th>TweetLength</th>\n",
              "    </tr>\n",
              "  </thead>\n",
              "  <tbody>\n",
              "    <tr>\n",
              "      <th>0</th>\n",
              "      <td>Now 10 dead in a shooting there today RT \"@BBC...</td>\n",
              "      <td>138</td>\n",
              "    </tr>\n",
              "    <tr>\n",
              "      <th>1</th>\n",
              "      <td>@BBCDanielS @BBCWorld I'm guessing this is bei...</td>\n",
              "      <td>93</td>\n",
              "    </tr>\n",
              "    <tr>\n",
              "      <th>2</th>\n",
              "      <td>@BBCDanielS @BBCWorld why would you mention th...</td>\n",
              "      <td>95</td>\n",
              "    </tr>\n",
              "    <tr>\n",
              "      <th>3</th>\n",
              "      <td>@BBCDanielS @BBCWorld perps identified?</td>\n",
              "      <td>39</td>\n",
              "    </tr>\n",
              "    <tr>\n",
              "      <th>4</th>\n",
              "      <td>@BBCDanielS @BBCWorld who is charlie hebdo?</td>\n",
              "      <td>43</td>\n",
              "    </tr>\n",
              "    <tr>\n",
              "      <th>...</th>\n",
              "      <td>...</td>\n",
              "      <td>...</td>\n",
              "    </tr>\n",
              "    <tr>\n",
              "      <th>1028</th>\n",
              "      <td>@TuomoMa Yes, it will, no doubt about that, an...</td>\n",
              "      <td>80</td>\n",
              "    </tr>\n",
              "    <tr>\n",
              "      <th>1029</th>\n",
              "      <td>.@markusjuva No, it's a fact. Give me a single...</td>\n",
              "      <td>118</td>\n",
              "    </tr>\n",
              "    <tr>\n",
              "      <th>1030</th>\n",
              "      <td>@TuomoMa But the #Quran was not written by #Mu...</td>\n",
              "      <td>88</td>\n",
              "    </tr>\n",
              "    <tr>\n",
              "      <th>1031</th>\n",
              "      <td>@TuomoMa Don't believe everything what quran s...</td>\n",
              "      <td>132</td>\n",
              "    </tr>\n",
              "    <tr>\n",
              "      <th>1032</th>\n",
              "      <td>@markusjuva Even though it's actually not a be...</td>\n",
              "      <td>116</td>\n",
              "    </tr>\n",
              "  </tbody>\n",
              "</table>\n",
              "<p>1033 rows × 2 columns</p>\n",
              "</div>"
            ],
            "text/plain": [
              "                                                   text  TweetLength\n",
              "0     Now 10 dead in a shooting there today RT \"@BBC...          138\n",
              "1     @BBCDanielS @BBCWorld I'm guessing this is bei...           93\n",
              "2     @BBCDanielS @BBCWorld why would you mention th...           95\n",
              "3               @BBCDanielS @BBCWorld perps identified?           39\n",
              "4           @BBCDanielS @BBCWorld who is charlie hebdo?           43\n",
              "...                                                 ...          ...\n",
              "1028  @TuomoMa Yes, it will, no doubt about that, an...           80\n",
              "1029  .@markusjuva No, it's a fact. Give me a single...          118\n",
              "1030  @TuomoMa But the #Quran was not written by #Mu...           88\n",
              "1031  @TuomoMa Don't believe everything what quran s...          132\n",
              "1032  @markusjuva Even though it's actually not a be...          116\n",
              "\n",
              "[1033 rows x 2 columns]"
            ]
          },
          "execution_count": 7,
          "metadata": {},
          "output_type": "execute_result"
        }
      ],
      "source": [
        "data[['text','TweetLength']]"
      ]
    },
    {
      "cell_type": "code",
      "execution_count": null,
      "id": "1bd32c13",
      "metadata": {
        "id": "1bd32c13"
      },
      "outputs": [],
      "source": []
    },
    {
      "cell_type": "code",
      "execution_count": null,
      "id": "dad1a224",
      "metadata": {
        "id": "dad1a224",
        "outputId": "75059b80-bbd9-4568-de3c-54c540300f04"
      },
      "outputs": [
        {
          "data": {
            "text/plain": [
              "0      733\n",
              "1      143\n",
              "2       48\n",
              "3       20\n",
              "6        9\n",
              "      ... \n",
              "373      1\n",
              "261      1\n",
              "158      1\n",
              "845      1\n",
              "616      1\n",
              "Name: Summation, Length: 67, dtype: int64"
            ]
          },
          "execution_count": 70,
          "metadata": {},
          "output_type": "execute_result"
        }
      ],
      "source": [
        "data['Summation'] = data.apply(lambda x : int(x['favorite_count']) + int(x['retweet_count']) + int(x['Label'])  ,axis= 1  )\n",
        "data['Summation'].value_counts()"
      ]
    },
    {
      "cell_type": "code",
      "execution_count": null,
      "id": "cf13e219",
      "metadata": {
        "id": "cf13e219",
        "outputId": "4dbcb602-7f0a-4dc2-9464-9cb620be7763"
      },
      "outputs": [
        {
          "data": {
            "text/html": [
              "<div>\n",
              "<style scoped>\n",
              "    .dataframe tbody tr th:only-of-type {\n",
              "        vertical-align: middle;\n",
              "    }\n",
              "\n",
              "    .dataframe tbody tr th {\n",
              "        vertical-align: top;\n",
              "    }\n",
              "\n",
              "    .dataframe thead th {\n",
              "        text-align: right;\n",
              "    }\n",
              "</style>\n",
              "<table border=\"1\" class=\"dataframe\">\n",
              "  <thead>\n",
              "    <tr style=\"text-align: right;\">\n",
              "      <th></th>\n",
              "      <th>truncated</th>\n",
              "      <th>text</th>\n",
              "      <th>in_reply_to_status_id</th>\n",
              "      <th>id</th>\n",
              "      <th>favorite_count</th>\n",
              "      <th>source</th>\n",
              "      <th>retweeted</th>\n",
              "      <th>coordinates</th>\n",
              "      <th>entities</th>\n",
              "      <th>in_reply_to_screen_name</th>\n",
              "      <th>...</th>\n",
              "      <th>created_at</th>\n",
              "      <th>in_reply_to_status_id_str</th>\n",
              "      <th>Label</th>\n",
              "      <th>TweetLetters</th>\n",
              "      <th>TweetWords</th>\n",
              "      <th>ReplyNumber</th>\n",
              "      <th>FirstReply</th>\n",
              "      <th>LinkExistence</th>\n",
              "      <th>FirstLink</th>\n",
              "      <th>Summation</th>\n",
              "    </tr>\n",
              "  </thead>\n",
              "  <tbody>\n",
              "    <tr>\n",
              "      <th>0</th>\n",
              "      <td>False</td>\n",
              "      <td>Now 10 dead in a shooting there today RT \"@BBC...</td>\n",
              "      <td>5.530000e+17</td>\n",
              "      <td>5.530000e+17</td>\n",
              "      <td>0</td>\n",
              "      <td>&lt;a href=\"http://twitter.com/download/iphone\" r...</td>\n",
              "      <td>False</td>\n",
              "      <td>NaN</td>\n",
              "      <td>{'symbols': [], 'user_mentions': [{'id': 33165...</td>\n",
              "      <td>BBCDanielS</td>\n",
              "      <td>...</td>\n",
              "      <td>Wed Jan 07 11:14:08 +0000 2015</td>\n",
              "      <td>5.530000e+17</td>\n",
              "      <td>0</td>\n",
              "      <td>138</td>\n",
              "      <td>23</td>\n",
              "      <td>1</td>\n",
              "      <td>bbcdaniels</td>\n",
              "      <td>False</td>\n",
              "      <td>***NoLink***</td>\n",
              "      <td>0</td>\n",
              "    </tr>\n",
              "    <tr>\n",
              "      <th>1</th>\n",
              "      <td>False</td>\n",
              "      <td>@BBCDanielS @BBCWorld I'm guessing this is bei...</td>\n",
              "      <td>5.530000e+17</td>\n",
              "      <td>5.530000e+17</td>\n",
              "      <td>0</td>\n",
              "      <td>&lt;a href=\"http://twitter.com\" rel=\"nofollow\"&gt;Tw...</td>\n",
              "      <td>False</td>\n",
              "      <td>NaN</td>\n",
              "      <td>{'symbols': [], 'user_mentions': [{'id': 33165...</td>\n",
              "      <td>BBCDanielS</td>\n",
              "      <td>...</td>\n",
              "      <td>Wed Jan 07 11:20:08 +0000 2015</td>\n",
              "      <td>5.530000e+17</td>\n",
              "      <td>0</td>\n",
              "      <td>93</td>\n",
              "      <td>14</td>\n",
              "      <td>2</td>\n",
              "      <td>bbcdaniels</td>\n",
              "      <td>False</td>\n",
              "      <td>***NoLink***</td>\n",
              "      <td>0</td>\n",
              "    </tr>\n",
              "    <tr>\n",
              "      <th>2</th>\n",
              "      <td>False</td>\n",
              "      <td>@BBCDanielS @BBCWorld why would you mention th...</td>\n",
              "      <td>5.530000e+17</td>\n",
              "      <td>5.530000e+17</td>\n",
              "      <td>0</td>\n",
              "      <td>&lt;a href=\"http://twitter.com/download/iphone\" r...</td>\n",
              "      <td>False</td>\n",
              "      <td>NaN</td>\n",
              "      <td>{'symbols': [], 'user_mentions': [{'id': 33165...</td>\n",
              "      <td>BBCDanielS</td>\n",
              "      <td>...</td>\n",
              "      <td>Wed Jan 07 11:20:18 +0000 2015</td>\n",
              "      <td>5.530000e+17</td>\n",
              "      <td>0</td>\n",
              "      <td>95</td>\n",
              "      <td>12</td>\n",
              "      <td>2</td>\n",
              "      <td>bbcdaniels</td>\n",
              "      <td>False</td>\n",
              "      <td>***NoLink***</td>\n",
              "      <td>1</td>\n",
              "    </tr>\n",
              "    <tr>\n",
              "      <th>3</th>\n",
              "      <td>False</td>\n",
              "      <td>@BBCDanielS @BBCWorld perps identified?</td>\n",
              "      <td>5.530000e+17</td>\n",
              "      <td>5.530000e+17</td>\n",
              "      <td>0</td>\n",
              "      <td>&lt;a href=\"http://twitter.com/download/iphone\" r...</td>\n",
              "      <td>False</td>\n",
              "      <td>NaN</td>\n",
              "      <td>{'symbols': [], 'user_mentions': [{'id': 33165...</td>\n",
              "      <td>BBCDanielS</td>\n",
              "      <td>...</td>\n",
              "      <td>Wed Jan 07 11:20:54 +0000 2015</td>\n",
              "      <td>5.530000e+17</td>\n",
              "      <td>0</td>\n",
              "      <td>39</td>\n",
              "      <td>4</td>\n",
              "      <td>2</td>\n",
              "      <td>bbcdaniels</td>\n",
              "      <td>False</td>\n",
              "      <td>***NoLink***</td>\n",
              "      <td>0</td>\n",
              "    </tr>\n",
              "    <tr>\n",
              "      <th>4</th>\n",
              "      <td>False</td>\n",
              "      <td>@BBCDanielS @BBCWorld who is charlie hebdo?</td>\n",
              "      <td>5.530000e+17</td>\n",
              "      <td>5.530000e+17</td>\n",
              "      <td>0</td>\n",
              "      <td>&lt;a href=\"http://twitter.com/download/android\" ...</td>\n",
              "      <td>False</td>\n",
              "      <td>NaN</td>\n",
              "      <td>{'symbols': [], 'user_mentions': [{'id': 33165...</td>\n",
              "      <td>BBCDanielS</td>\n",
              "      <td>...</td>\n",
              "      <td>Wed Jan 07 11:24:59 +0000 2015</td>\n",
              "      <td>5.530000e+17</td>\n",
              "      <td>0</td>\n",
              "      <td>43</td>\n",
              "      <td>6</td>\n",
              "      <td>2</td>\n",
              "      <td>bbcdaniels</td>\n",
              "      <td>False</td>\n",
              "      <td>***NoLink***</td>\n",
              "      <td>0</td>\n",
              "    </tr>\n",
              "  </tbody>\n",
              "</table>\n",
              "<p>5 rows × 28 columns</p>\n",
              "</div>"
            ],
            "text/plain": [
              "   truncated                                               text  \\\n",
              "0      False  Now 10 dead in a shooting there today RT \"@BBC...   \n",
              "1      False  @BBCDanielS @BBCWorld I'm guessing this is bei...   \n",
              "2      False  @BBCDanielS @BBCWorld why would you mention th...   \n",
              "3      False            @BBCDanielS @BBCWorld perps identified?   \n",
              "4      False        @BBCDanielS @BBCWorld who is charlie hebdo?   \n",
              "\n",
              "   in_reply_to_status_id            id  favorite_count  \\\n",
              "0           5.530000e+17  5.530000e+17               0   \n",
              "1           5.530000e+17  5.530000e+17               0   \n",
              "2           5.530000e+17  5.530000e+17               0   \n",
              "3           5.530000e+17  5.530000e+17               0   \n",
              "4           5.530000e+17  5.530000e+17               0   \n",
              "\n",
              "                                              source  retweeted coordinates  \\\n",
              "0  <a href=\"http://twitter.com/download/iphone\" r...      False         NaN   \n",
              "1  <a href=\"http://twitter.com\" rel=\"nofollow\">Tw...      False         NaN   \n",
              "2  <a href=\"http://twitter.com/download/iphone\" r...      False         NaN   \n",
              "3  <a href=\"http://twitter.com/download/iphone\" r...      False         NaN   \n",
              "4  <a href=\"http://twitter.com/download/android\" ...      False         NaN   \n",
              "\n",
              "                                            entities in_reply_to_screen_name  \\\n",
              "0  {'symbols': [], 'user_mentions': [{'id': 33165...              BBCDanielS   \n",
              "1  {'symbols': [], 'user_mentions': [{'id': 33165...              BBCDanielS   \n",
              "2  {'symbols': [], 'user_mentions': [{'id': 33165...              BBCDanielS   \n",
              "3  {'symbols': [], 'user_mentions': [{'id': 33165...              BBCDanielS   \n",
              "4  {'symbols': [], 'user_mentions': [{'id': 33165...              BBCDanielS   \n",
              "\n",
              "   ...                      created_at  in_reply_to_status_id_str  Label  \\\n",
              "0  ...  Wed Jan 07 11:14:08 +0000 2015               5.530000e+17      0   \n",
              "1  ...  Wed Jan 07 11:20:08 +0000 2015               5.530000e+17      0   \n",
              "2  ...  Wed Jan 07 11:20:18 +0000 2015               5.530000e+17      0   \n",
              "3  ...  Wed Jan 07 11:20:54 +0000 2015               5.530000e+17      0   \n",
              "4  ...  Wed Jan 07 11:24:59 +0000 2015               5.530000e+17      0   \n",
              "\n",
              "   TweetLetters TweetWords ReplyNumber  FirstReply LinkExistence  \\\n",
              "0           138         23           1  bbcdaniels         False   \n",
              "1            93         14           2  bbcdaniels         False   \n",
              "2            95         12           2  bbcdaniels         False   \n",
              "3            39          4           2  bbcdaniels         False   \n",
              "4            43          6           2  bbcdaniels         False   \n",
              "\n",
              "      FirstLink  Summation  \n",
              "0  ***NoLink***          0  \n",
              "1  ***NoLink***          0  \n",
              "2  ***NoLink***          1  \n",
              "3  ***NoLink***          0  \n",
              "4  ***NoLink***          0  \n",
              "\n",
              "[5 rows x 28 columns]"
            ]
          },
          "execution_count": 72,
          "metadata": {},
          "output_type": "execute_result"
        }
      ],
      "source": [
        "data.head()"
      ]
    },
    {
      "cell_type": "code",
      "execution_count": null,
      "id": "68390aff",
      "metadata": {
        "id": "68390aff"
      },
      "outputs": [],
      "source": [
        "def TweetClassFunction(TweetLetters,TweetWords,ReplyNumber) :\n",
        "    Class = ''\n",
        "    if TweetLetters > 50 and TweetWords> 10 and ReplyNumber > 2 :\n",
        "        Class = 'Tweet A'\n",
        "    else :\n",
        "        Class = 'Tweet B'\n",
        "    return Class\n",
        "\n",
        "\n",
        "\n",
        "data['TweetClass'] = data.apply(lambda x : TweetClassFunction(x['TweetLetters'],x['TweetWords'],x['ReplyNumber']) ,axis = 1)"
      ]
    },
    {
      "cell_type": "code",
      "execution_count": null,
      "id": "86ffb628",
      "metadata": {
        "id": "86ffb628",
        "outputId": "8d77f69b-c128-42d4-8515-175f0cbab0ad"
      },
      "outputs": [
        {
          "data": {
            "text/plain": [
              "Tweet B    909\n",
              "Tweet A    124\n",
              "Name: TweetClass, dtype: int64"
            ]
          },
          "execution_count": 75,
          "metadata": {},
          "output_type": "execute_result"
        }
      ],
      "source": [
        "data['TweetClass'].value_counts()"
      ]
    },
    {
      "cell_type": "code",
      "execution_count": null,
      "id": "1ff78322",
      "metadata": {
        "id": "1ff78322"
      },
      "outputs": [],
      "source": []
    }
  ],
  "metadata": {
    "kernelspec": {
      "display_name": "Python 3 (ipykernel)",
      "language": "python",
      "name": "python3"
    },
    "language_info": {
      "codemirror_mode": {
        "name": "ipython",
        "version": 3
      },
      "file_extension": ".py",
      "mimetype": "text/x-python",
      "name": "python",
      "nbconvert_exporter": "python",
      "pygments_lexer": "ipython3",
      "version": "3.9.13"
    },
    "colab": {
      "provenance": []
    }
  },
  "nbformat": 4,
  "nbformat_minor": 5
}